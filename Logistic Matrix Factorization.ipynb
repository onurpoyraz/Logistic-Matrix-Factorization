{
 "cells": [
  {
   "cell_type": "markdown",
   "metadata": {},
   "source": [
    "# Logistic Matrix Factorization\n",
    "\n",
    "## Problem Description\n",
    "\n",
    "Binary matrices (Matrices with elements of 0/1) appear in many applications. A binary matrix can represent relations such as 'User $i$ bought item $j$', or 'Member $i$ likes Member $j$'. Such datasets are often sparse -- only a fraction of the possible entries of a matrix are known. \n",
    "\n",
    "A binary matrix can also viewed as the adjacency matrix of a bipartite graph. Hence each entry corresponds to an edge.\n",
    "One task here is known as link prediction, meaning guessing the presence or absence of edges in the underlying graph. \n",
    "This prediction can then be used for several tasks such as recommendation or knowledge-base completion.\n",
    "\n",
    "In this project, you are going to implement a matrix factorization with missing elements using Stochastic Gradient Descent (SGD), Batch SGD and GD first in numpy, then also making use of PyTorch. You will also analyze the effect of the fraction of missing elements, estimation rank and max iteration. \n",
    "\n",
    "The matrix you will factorize is a binary(logistic) matrix and has a specific pattern. Its elements that whose indices sum up to an even number are 1 and 0 otherwise. For more detailed derivation and problem description, you can analyze [this](https://github.com/atcemgil/notes/blob/master/Logistic%20Matrix%20Factorization.ipynb) notebook."
   ]
  },
  {
   "cell_type": "code",
   "execution_count": 1,
   "metadata": {},
   "outputs": [],
   "source": [
    "import numpy as np\n",
    "import matplotlib.pyplot as plt\n",
    "import random\n",
    "from ipywidgets import interact, interactive, fixed\n",
    "import ipywidgets as widgets"
   ]
  },
  {
   "cell_type": "code",
   "execution_count": 2,
   "metadata": {},
   "outputs": [],
   "source": [
    "def sigmoid(t):\n",
    "    return 1./(1+np.exp(-t))\n",
    "\n",
    "def likelihood(XM, Mask, W, H):\n",
    "    return np.sum(XM * np.dot(W, H) - Mask * np.log(1 + np.exp(np.dot(W, H))))"
   ]
  },
  {
   "cell_type": "markdown",
   "metadata": {},
   "source": [
    "# Dataset Generation\n",
    "\n",
    "This cell generates the dataset as we have discussed. It sets the elements whom indices sum up to even number to 1."
   ]
  },
  {
   "cell_type": "code",
   "execution_count": 3,
   "metadata": {},
   "outputs": [
    {
     "data": {
      "image/png": "[encoded data removed]",
      "text/plain": [
       "<Figure size 432x288 with 1 Axes>"
      ]
     },
     "metadata": {},
     "output_type": "display_data"
    }
   ],
   "source": [
    "M = 50 # Use a square matrix of 50x50. You can change it if you wish\n",
    "original_matrix = np.array([[int((i + j) % 2 == 0) for j in range(M)] for  i in range(M)])\n",
    "plt.imshow(original_matrix, cmap='bwr')  \n",
    "plt.title('Original Matrix (Full data)')\n",
    "plt.show()"
   ]
  },
  {
   "cell_type": "markdown",
   "metadata": {},
   "source": [
    "# Masking\n",
    "\n",
    "Now mask the dataset. Number of elements to mask is set by a parameter. \n",
    "\n",
    "Seed the random for repeatability"
   ]
  },
  {
   "cell_type": "code",
   "execution_count": 4,
   "metadata": {},
   "outputs": [
    {
     "data": {
      "image/png": "[encoded data removed]",
      "text/plain": [
       "<Figure size 432x288 with 1 Axes>"
      ]
     },
     "metadata": {},
     "output_type": "display_data"
    }
   ],
   "source": [
    "random.seed(10)\n",
    "def generate_mask(M = 50, mask_count=M*M//10):\n",
    "    masks = [(random.randint(0,M-1), random.randint(0,M-1)) for i in range(mask_count)]\n",
    "    mask = np.ones((M,M))\n",
    "    for m in masks:\n",
    "        mask[m] = np.nan\n",
    "    return mask\n",
    "\n",
    "mask = generate_mask(M)\n",
    "Mask = mask.copy()\n",
    "Mask[mask != True] = False\n",
    "plt.imshow(mask, cmap='bwr')  \n",
    "plt.title('Masked Data')\n",
    "plt.show()"
   ]
  },
  {
   "cell_type": "code",
   "execution_count": 348,
   "metadata": {},
   "outputs": [
    {
     "data": {
      "image/png": "[encoded data removed]",
      "text/plain": [
       "<Figure size 432x288 with 1 Axes>"
      ]
     },
     "metadata": {},
     "output_type": "display_data"
    }
   ],
   "source": [
    "Y = original_matrix.copy()\n",
    "Y[Mask==False] = 0\n",
    "plt.imshow(Y, cmap='bwr')  \n",
    "plt.title('Masked Data')\n",
    "plt.show()"
   ]
  },
  {
   "cell_type": "markdown",
   "metadata": {},
   "source": [
    "# Gradient Descents\n",
    "\n",
    "Implement **SGD**. **BGD** and **GD** in this cell using **numpy**. Compute the error of the resulting matrix compared to original data for approximation ranks in [1,M]. For measuring the quality of the fit, you should use the log-likelihood\n",
    "\n",
    "\\begin{eqnarray}\n",
    "\\log p(Y |W, H ) &=& \\sum_j \\sum_{i} M(i,j) Y(i,j) \\big(\\sum_k W(i,k) H(k,j)\\big)  - \\sum_j \\sum_{i} M(i,j) \\log\\bigg( 1+ \\exp\\big(\\sum_k W(i,k) H(k,j)\\big)\\bigg) \n",
    "\\end{eqnarray}\n",
    "\n",
    "For plot generation, use results computed by SGD."
   ]
  },
  {
   "cell_type": "markdown",
   "metadata": {},
   "source": [
    "### Answer\n",
    "$\\newcommand{\\trace}{\\mathop{\\text{Tr}}}$\n",
    "\n",
    "\\begin{eqnarray}\n",
    "\\frac{\\partial}{\\partial W(i,k)} \\log p(Y |W, H ) &=& \\sum_j M(i,j) Y(i,j) H(k,j)  - \\sum_j M(i,j) \\sigma\\left(\\sum_k W(i,k) H(k,j)\\right) H(k, j) \\\\\n",
    "&=& \\sum_j M(i,j) \\left(Y(i,j) - \\sigma\\left(\\sum_k W(i,k) H(k,j)\\right) \\right) H(k, j)\n",
    "\\end{eqnarray}\n",
    "\n",
    "\\begin{eqnarray}\n",
    "\\frac{\\partial}{\\partial H(k,j)} \\log p(Y |W, H ) &=& \\sum_i M(i,j) Y(i,j) W(i,k)  - \\sum_j M(i,j) \\sigma\\left(\\sum_k W(i,k) H(k,j)\\right) W(i, k) \\\\\n",
    "&=& \\sum_j M(i,j) \\left(Y(i,j) - \\sigma\\left(\\sum_k W(i,k) H(k,j)\\right) \\right) W(i, k)\n",
    "\\end{eqnarray}\n",
    "\n",
    "\n",
    "#### Evaluating the gradient (In matrix notation)\n",
    "\n",
    "$$\n",
    "\\frac{d\\mathcal{L}(W,H)}{dW} = (M \\odot (Y -\\sigma(W H)))H^\\top\n",
    "$$\n",
    "\n",
    "$$\n",
    "\\frac{d\\mathcal{L}(W,H)}{dH} = W^\\top (M \\odot (Y -\\sigma(W H)))\n",
    "$$"
   ]
  },
  {
   "cell_type": "code",
   "execution_count": 363,
   "metadata": {},
   "outputs": [],
   "source": [
    "# Implement SGD here. Add the method signatures for other gradient descents as well. You can add a batch size parameter to merge\n",
    "# all types of gradient descents into one method.\n",
    "def sgd(original_matrix, Mask, estimation_rank, BATCH_M, BATCH_N, MAX_ITER=10000, eta=0.005, nu=0.1):\n",
    "    error_list = []\n",
    "    XM = original_matrix.copy()\n",
    "    XM[Mask==False] = 0\n",
    "\n",
    "    M, N = original_matrix.shape\n",
    "    K = estimation_rank\n",
    "    W = np.random.randn(M,K)\n",
    "    H = np.random.randn(K,N)\n",
    "    \n",
    "    for epoch in range(MAX_ITER):\n",
    "        index0 = np.random.choice(M, BATCH_M, replace=False)\n",
    "        index1 = np.random.choice(N, BATCH_N, replace=False)\n",
    "        XM_1 = XM[index0,:]\n",
    "        XM_F = XM_1[:,index1]\n",
    "        Mask_1 = Mask[index0,:]\n",
    "        Mask_F = Mask_1[:,index1]\n",
    "        \n",
    "        dLw = - np.dot(XM_F - Mask_F * sigmoid(np.dot(W[index0,:],H[:,index1])), H[:,index1].T) + nu * W[index0,:]\n",
    "        W[index0,:] = W[index0,:] - eta * dLw\n",
    "        dLh = - np.dot(W[index0,:].T, XM_F - Mask_F * sigmoid(np.dot(W[index0,:],H[:,index1]))) + nu * H[:,index1]\n",
    "        H[:,index1] = H[:,index1] - eta * dLh\n",
    "\n",
    "        if epoch > 5000:\n",
    "            E = - likelihood(XM, Mask, W, H)\n",
    "            error_list.append(E)\n",
    "    error = - likelihood(XM, Mask, W, H)\n",
    "    return W, H, error, error_list"
   ]
  },
  {
   "cell_type": "code",
   "execution_count": 356,
   "metadata": {},
   "outputs": [],
   "source": [
    "M, N = original_matrix.shape\n",
    "BATCH_M = 1\n",
    "BATCH_N = N\n",
    "if BATCH_M > M:\n",
    "    BATCH_M = M\n",
    "if BATCH_N > N:\n",
    "    BATCH_N = N\n",
    "# Compute error for varying estimation ranks from 1 to M\n",
    "errors_list = []\n",
    "errors = []\n",
    "Ws = []\n",
    "Hs = []\n",
    "for rank in range(1, M + 1):\n",
    "    W, H, error, error_list = sgd(original_matrix, Mask, rank, BATCH_M, BATCH_N, MAX_ITER=10000, eta=0.005, nu=0.1)\n",
    "    errors_list.append(error_list)\n",
    "    errors.append(error)\n",
    "    Ws.append(W)\n",
    "    Hs.append(H)"
   ]
  },
  {
   "cell_type": "code",
   "execution_count": 357,
   "metadata": {},
   "outputs": [
    {
     "data": {
      "image/png": "[encoded data removed]",
      "text/plain": [
       "<Figure size 432x288 with 1 Axes>"
      ]
     },
     "metadata": {},
     "output_type": "display_data"
    }
   ],
   "source": [
    "plt.plot(range(1, M + 1), errors)\n",
    "plt.show()"
   ]
  },
  {
   "cell_type": "code",
   "execution_count": 358,
   "metadata": {},
   "outputs": [
    {
     "data": {
      "application/vnd.jupyter.widget-view+json": {
       "model_id": "5ba5890d487a40939add2dd5957a6b35",
       "version_major": 2,
       "version_minor": 0
      },
      "text/plain": [
       "interactive(children=(IntSlider(value=25, description='rank', max=50, min=1), Output()), _dom_classes=('widget…"
      ]
     },
     "metadata": {},
     "output_type": "display_data"
    }
   ],
   "source": [
    "def prediction(rank):\n",
    "    pred = sigmoid(np.dot(Ws[rank-1],Hs[rank-1]))\n",
    "    plt.imshow(pred, cmap='bwr')  \n",
    "    plt.title('Predicted Data with Rank {}'.format(rank))\n",
    "    plt.show()\n",
    "\n",
    "interact(prediction, rank = (1, 50, 1));"
   ]
  },
  {
   "cell_type": "markdown",
   "metadata": {},
   "source": [
    "Plot error vs estimation rank."
   ]
  },
  {
   "cell_type": "markdown",
   "metadata": {},
   "source": [
    "Now compute error for both changing rank( 1 to M) and max_iter(5000-20000). Plot it as a heatmap. You can use the plotting code below."
   ]
  },
  {
   "cell_type": "code",
   "execution_count": 359,
   "metadata": {},
   "outputs": [
    {
     "data": {
      "image/png": "[encoded data removed]",
      "text/plain": [
       "<Figure size 432x288 with 2 Axes>"
      ]
     },
     "metadata": {},
     "output_type": "display_data"
    }
   ],
   "source": [
    "plt.imshow(errors_list, cmap='hot', interpolation='nearest', extent=[5000,10000,M,1], aspect='auto')\n",
    "plt.xlabel('Iterations')\n",
    "plt.ylabel('Approximation Rank')\n",
    "plt.colorbar()\n",
    "plt.show()"
   ]
  },
  {
   "cell_type": "markdown",
   "metadata": {},
   "source": [
    "Now analyze the effect of varying the hidden element count(set your own limits) and approximation rank"
   ]
  },
  {
   "cell_type": "code",
   "execution_count": 364,
   "metadata": {},
   "outputs": [],
   "source": [
    "M, N = original_matrix.shape\n",
    "BATCH_M = 1\n",
    "BATCH_N = N\n",
    "if BATCH_M > M:\n",
    "    BATCH_M = M\n",
    "if BATCH_N > N:\n",
    "    BATCH_N = N\n",
    "# Compute error for varying estimation ranks from 1 to M\n",
    "errors_mask_full = []\n",
    "for rank in range(1, M + 1):\n",
    "    errors_mask = []\n",
    "    for mask_count in range(2, 11):\n",
    "        mask = generate_mask(M, mask_count)\n",
    "        Mask = mask.copy()\n",
    "        Mask[mask != True] = False\n",
    "        W, H, error, error_list = sgd(original_matrix, Mask, rank, BATCH_M, BATCH_N, MAX_ITER=5000, eta=0.005, nu=0.1)\n",
    "        errors_mask.append(error)\n",
    "    errors_mask_full.append(errors_mask)"
   ]
  },
  {
   "cell_type": "code",
   "execution_count": 366,
   "metadata": {},
   "outputs": [
    {
     "data": {
      "image/png": "[encoded data removed]",
      "text/plain": [
       "<Figure size 432x288 with 2 Axes>"
      ]
     },
     "metadata": {},
     "output_type": "display_data"
    }
   ],
   "source": [
    "plt.imshow(errors_mask_full, cmap='hot', interpolation='nearest', extent=[100/2,100/10,M,1], aspect='auto')\n",
    "plt.xlabel('Mask Count')\n",
    "plt.ylabel('Approximation Rank')\n",
    "plt.colorbar()\n",
    "plt.show()"
   ]
  },
  {
   "cell_type": "markdown",
   "metadata": {},
   "source": [
    "# PyTorch\n",
    "\n",
    "Now implement BGD and SGD using PyTorch and generate the same plots."
   ]
  },
  {
   "cell_type": "code",
   "execution_count": 302,
   "metadata": {},
   "outputs": [],
   "source": [
    "import torch as tc\n",
    "from torch.autograd import Variable"
   ]
  },
  {
   "cell_type": "markdown",
   "metadata": {},
   "source": [
    "\\begin{eqnarray}\n",
    "\\log p(Y |W, H ) &=& \\sum_j \\sum_{i} M(i,j) Y(i,j) \\left(\\sum_k W(i,k) H(k,j)\\right)  - \\sum_j \\sum_{i} M(i,j) \\log\\left( 1+ \\exp\\left(\\sum_k W(i,k) H(k,j)\\right)\\right) \n",
    "\\end{eqnarray}"
   ]
  },
  {
   "cell_type": "code",
   "execution_count": 309,
   "metadata": {},
   "outputs": [],
   "source": [
    "def sigmoid_tc(t):\n",
    "    return 1./(1+tc.exp(-t))\n",
    "\n",
    "def likelihood_tc(XM, Mask, W, H):\n",
    "    return tc.sum(XM * tc.matmul(W, H) - Mask * tc.log(1 + tc.exp(tc.matmul(W, H))))\n"
   ]
  },
  {
   "cell_type": "code",
   "execution_count": 310,
   "metadata": {},
   "outputs": [],
   "source": [
    "XM = original_matrix.copy()\n",
    "mask = generate_mask(M)\n",
    "Mask = mask.copy()\n",
    "Mask[mask != True] = False\n",
    "XM[Mask==False] = 0\n",
    "\n",
    "XM_tc = torch.Tensor(XM)\n",
    "Mask_tc = torch.Tensor(Mask)"
   ]
  },
  {
   "cell_type": "code",
   "execution_count": 338,
   "metadata": {},
   "outputs": [],
   "source": [
    "def sgd_tc(original_matrix, Mask, K, MAX_ITER=1000, eta=0.005, nu=0.1):\n",
    "    error_tc_list = []\n",
    "    M, N = original_matrix.shape\n",
    "    W_tc = Variable(torch.Tensor(np.random.randn(M,K)), requires_grad=True)\n",
    "    H_tc = Variable(torch.Tensor(np.random.randn(K,N)), requires_grad=True)\n",
    "    \n",
    "    opt = torch.optim.SGD([W_tc, H_tc], lr=eta, weight_decay=nu)\n",
    "    \n",
    "    for epoch in range(MAX_ITER): \n",
    "        opt.zero_grad()\n",
    "        E_tc = -likelihood_tc(XM_tc, Mask_tc, W_tc, H_tc)\n",
    "        E_tc.backward()\n",
    "\n",
    "        opt.step()\n",
    "        if epoch > 250:\n",
    "            error_tc_list.append(float(E_tc.detach().numpy()))\n",
    "    \n",
    "    error_tc = float(E_tc.detach().numpy())\n",
    "    return W_tc, H_tc, error_tc, error_tc_list"
   ]
  },
  {
   "cell_type": "code",
   "execution_count": 339,
   "metadata": {},
   "outputs": [],
   "source": [
    "random.seed(10)\n",
    "\n",
    "# Compute error for varying estimation ranks from 1 to M\n",
    "errors_tc_list = []\n",
    "errors_tc = []\n",
    "W_tcs = []\n",
    "H_tcs = []\n",
    "for rank in range(1, M + 1):\n",
    "    W_tc, H_tc, error_tc, error_tc_list = sgd_tc(original_matrix, Mask, rank, MAX_ITER=1000, eta=0.005, nu=0.1)\n",
    "    errors_tc_list.append(error_tc_list)\n",
    "    errors_tc.append(error_tc)\n",
    "    W_tcs.append(W_tc)\n",
    "    H_tcs.append(H_tc)"
   ]
  },
  {
   "cell_type": "code",
   "execution_count": 340,
   "metadata": {},
   "outputs": [
    {
     "data": {
      "image/png": "[encoded data removed]",
      "text/plain": [
       "<Figure size 432x288 with 1 Axes>"
      ]
     },
     "metadata": {},
     "output_type": "display_data"
    }
   ],
   "source": [
    "plt.plot(range(1, M + 1), errors_tc)\n",
    "plt.show()"
   ]
  },
  {
   "cell_type": "code",
   "execution_count": 341,
   "metadata": {},
   "outputs": [
    {
     "data": {
      "application/vnd.jupyter.widget-view+json": {
       "model_id": "03c5f3095ef342d485a50f43ee8d356d",
       "version_major": 2,
       "version_minor": 0
      },
      "text/plain": [
       "interactive(children=(IntSlider(value=25, description='rank', max=50, min=1), Output()), _dom_classes=('widget…"
      ]
     },
     "metadata": {},
     "output_type": "display_data"
    }
   ],
   "source": [
    "def prediction_tc(rank):\n",
    "    pred = sigmoid_tc(tc.matmul(W_tcs[rank-1],H_tcs[rank-1]))\n",
    "    pred = pred.detach().numpy()\n",
    "    plt.imshow(pred, cmap='bwr')  \n",
    "    plt.title('Predicted Data with Rank {}'.format(rank))\n",
    "    plt.show()\n",
    "\n",
    "interact(prediction_tc, rank = (1, 50, 1));"
   ]
  },
  {
   "cell_type": "code",
   "execution_count": 342,
   "metadata": {},
   "outputs": [
    {
     "data": {
      "image/png": "[encoded data removed]",
      "text/plain": [
       "<Figure size 432x288 with 2 Axes>"
      ]
     },
     "metadata": {},
     "output_type": "display_data"
    }
   ],
   "source": [
    "plt.imshow(errors_tc_list, cmap='hot', interpolation='nearest', extent=[250,1000,M,1], aspect='auto')\n",
    "plt.xlabel('Iterations')\n",
    "plt.ylabel('Approximation Rank')\n",
    "plt.colorbar()\n",
    "plt.show()"
   ]
  },
  {
   "cell_type": "code",
   "execution_count": 343,
   "metadata": {},
   "outputs": [],
   "source": [
    "errors_tc_mask_full = []\n",
    "for rank in range(1, M + 1):\n",
    "    errors_tc_mask = []\n",
    "    for mask_count in range(2, 11):\n",
    "        mask = generate_mask(M, mask_count)\n",
    "        Mask = mask.copy()\n",
    "        Mask[mask != True] = False\n",
    "        W_tc, H_tc, error_tc, error_tc_list = sgd_tc(original_matrix, Mask, rank, MAX_ITER=500, eta=0.005, nu=0.1)\n",
    "        errors_tc_mask.append(error_tc)\n",
    "    errors_tc_mask_full.append(errors_tc_mask)"
   ]
  },
  {
   "cell_type": "code",
   "execution_count": 367,
   "metadata": {},
   "outputs": [
    {
     "data": {
      "image/png": "[encoded data removed]",
      "text/plain": [
       "<Figure size 432x288 with 2 Axes>"
      ]
     },
     "metadata": {},
     "output_type": "display_data"
    }
   ],
   "source": [
    "plt.imshow(errors_tc_mask_full, cmap='hot', interpolation='nearest', extent=[100/2,100/10,M,1], aspect='auto')\n",
    "plt.xlabel('Mask Count')\n",
    "plt.ylabel('Approximation Rank')\n",
    "plt.colorbar()\n",
    "plt.show()"
   ]
  },
  {
   "cell_type": "code",
   "execution_count": null,
   "metadata": {},
   "outputs": [],
   "source": []
  }
 ],
 "metadata": {
  "kernelspec": {
   "display_name": "Python 3",
   "language": "python",
   "name": "python3"
  },
  "language_info": {
   "codemirror_mode": {
    "name": "ipython",
    "version": 3
   },
   "file_extension": ".py",
   "mimetype": "text/x-python",
   "name": "python",
   "nbconvert_exporter": "python",
   "pygments_lexer": "ipython3",
   "version": "3.6.5"
  },
  "latex_envs": {
   "LaTeX_envs_menu_present": true,
   "autoclose": false,
   "autocomplete": true,
   "bibliofile": "biblio.bib",
   "cite_by": "apalike",
   "current_citInitial": 1,
   "eqLabelWithNumbers": true,
   "eqNumInitial": 1,
   "hotkeys": {
    "equation": "Ctrl-E",
    "itemize": "Ctrl-I"
   },
   "labels_anchors": false,
   "latex_user_defs": false,
   "report_style_numbering": false,
   "user_envs_cfg": false
  },
  "toc": {
   "nav_menu": {},
   "number_sections": true,
   "sideBar": true,
   "skip_h1_title": false,
   "toc_cell": false,
   "toc_position": {},
   "toc_section_display": "block",
   "toc_window_display": false
  }
 },
 "nbformat": 4,
 "nbformat_minor": 2
}
